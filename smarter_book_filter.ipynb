{
 "cells": [
  {
   "cell_type": "markdown",
   "id": "0182b639",
   "metadata": {},
   "source": [
    "# Smarter Book Filter\n",
    "Let’s build on your previous challenge and make your book filter more flexible and user-friendly.\n",
    "\n",
    "In this version, the user can:\n",
    "\n",
    "- input a starting letter\n",
    "\n",
    "- only show books that are \"Available\"\n",
    "\n",
    "- see how many matching books were found in total"
   ]
  },
  {
   "cell_type": "markdown",
   "id": "32b33fe9",
   "metadata": {},
   "source": [
    "Seen below is our original filter"
   ]
  },
  {
   "cell_type": "markdown",
   "id": "2c82fdb5",
   "metadata": {},
   "source": [
    "### Follow along each step to complete the challenge! Put your code below the comments"
   ]
  },
  {
   "cell_type": "markdown",
   "id": "94ee443a",
   "metadata": {},
   "source": [
    "## Step 1 : Get the User's Input"
   ]
  },
  {
   "cell_type": "markdown",
   "id": "8282cc53",
   "metadata": {},
   "source": [
    "## Step 2: Initialize a counter"
   ]
  },
  {
   "cell_type": "markdown",
   "id": "e90a8008",
   "metadata": {},
   "source": [
    "## Step 3: Display a header message"
   ]
  },
  {
   "cell_type": "markdown",
   "id": "38ae8116",
   "metadata": {},
   "source": [
    "## Step 4: Search through the dictionary"
   ]
  },
  {
   "cell_type": "markdown",
   "id": "5f69b543",
   "metadata": {},
   "source": [
    "## Step 5: Show total matches"
   ]
  },
  {
   "cell_type": "code",
   "execution_count": 7,
   "id": "15e452b5",
   "metadata": {},
   "outputs": [
    {
     "name": "stdout",
     "output_type": "stream",
     "text": [
      "\n",
      "Books starting with T that are Available:\n",
      "The Hobbit\n",
      "Things Fall Apart\n",
      "The Great Gatsby\n",
      "The Road\n",
      "Total book matches: 4\n"
     ]
    }
   ],
   "source": [
    "library = {\n",
    "    \"The Hobbit\": \"Available\",\n",
    "    \"Slaughterhouse-Five\": \"Available\",\n",
    "    \"Moby Dick\": \"Available\",\n",
    "    \"The Catcher in the Rye\": \"Checked Out\",\n",
    "    \"Siddhartha\": \"Checked Out\",\n",
    "    \"Meditations\": \"Checked Out\",\n",
    "    \"Things Fall Apart\": \"Available\",\n",
    "    \"To Kill a Mockingbird\": \"Checked Out\",\n",
    "    \"Pride and Prejudice\": \"Available\",\n",
    "    \"Jane Eyre\": \"Checked Out\",\n",
    "    \"The Great Gatsby\": \"Available\",\n",
    "    \"War and Peace\": \"Checked Out\",\n",
    "    \"Crime and Punishment\": \"Available\",\n",
    "    \"Brave New World\": \"Available\",\n",
    "    \"A Tale of Two Cities\": \"Checked Out\",\n",
    "    \"Animal Farm\": \"Available\",\n",
    "    \"Dracula\": \"Checked Out\",\n",
    "    \"Frankenstein\": \"Available\",\n",
    "    \"The Road\": \"Available\",\n",
    "    \"The Alchemist\": \"Checked Out\"\n",
    "}\n",
    "books_found = 0\n",
    "letter = input(\"Search for a letter\").upper()\n",
    "print(f\"\\nBooks starting with {letter} that are Available:\")\n",
    "\n",
    "for x in library:\n",
    "    if x[0] == letter and library[x] == \"Available\":\n",
    "        print(x)\n",
    "        books_found += 1\n",
    "print(f\"Total book matches: {books_found}\")        \n",
    "\n"
   ]
  },
  {
   "cell_type": "markdown",
   "id": "45bf0af5",
   "metadata": {},
   "source": [
    "# Great job!\n",
    "\n",
    "You’ve built a flexible book filter using a dictionary, conditionals, string methods, and a for loop. Nice work applying what you've learned.\n",
    "\n",
    "This is not required, but if you’d like to go further and make this project more advanced, try one (or all) of these ideas:\n",
    "\n",
    "- Let the user input more than one starting letter (e.g., \"T,S,M\")\n",
    "- Allow the user to choose whether to filter by \"Available\", \"Checked Out\", or show all books\n",
    "- Let users add new books to the dictionary along with their availability status\n",
    "- Give users the ability to change the status of an existing book (for example, from \"Checked Out\" to \"Available\")\n",
    "\n",
    "Try adding one feature at a time to build your skills. \n"
   ]
  }
 ],
 "metadata": {
  "kernelspec": {
   "display_name": "Python 3",
   "language": "python",
   "name": "python3"
  },
  "language_info": {
   "codemirror_mode": {
    "name": "ipython",
    "version": 3
   },
   "file_extension": ".py",
   "mimetype": "text/x-python",
   "name": "python",
   "nbconvert_exporter": "python",
   "pygments_lexer": "ipython3",
   "version": "3.13.5"
  }
 },
 "nbformat": 4,
 "nbformat_minor": 5
}
